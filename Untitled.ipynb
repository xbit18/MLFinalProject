{
 "cells": [
  {
   "cell_type": "code",
   "execution_count": 6,
   "id": "c199c62b",
   "metadata": {},
   "outputs": [],
   "source": [
    "import tensorflow as tf\n",
    "from tensorflow import keras\n",
    "import numpy as np\n",
    "import pandas as pd\n",
    "from sklearn.model_selection import train_test_split\n",
    "from sklearn.metrics import mean_absolute_error, mean_absolute_percentage_error, accuracy_score\n",
    "from keras.models import Sequential, Model\n",
    "from keras.layers import Dense, Input, concatenate, Masking\n",
    "from tensorflow.keras.preprocessing.image import load_img, img_to_array\n",
    "from tensorflow.keras import layers, models\n",
    "from tensorflow.keras.utils import to_categorical"
   ]
  },
  {
   "cell_type": "code",
   "execution_count": 7,
   "id": "65d76db7",
   "metadata": {},
   "outputs": [],
   "source": [
    "# Helper function\n",
    "class StopExecution(Exception):\n",
    "    def _render_traceback_(self):\n",
    "        return []\n",
    "\n",
    "def exit():\n",
    "    raise StopExecution"
   ]
  },
  {
   "cell_type": "code",
   "execution_count": 8,
   "id": "7256df99",
   "metadata": {},
   "outputs": [],
   "source": [
    "# Define the model\n",
    "def create_cnn_model():\n",
    "    model = models.Sequential()\n",
    "    \n",
    "    # First convolution layer\n",
    "    model.add(layers.Conv2D(32, (5, 5), strides=(5, 5), padding='same', activation='tanh', input_shape=(20, 20, 1)))\n",
    "    \n",
    "    # Second convolution layer\n",
    "    model.add(layers.Conv2D(64, (3, 3), strides=(2, 2), padding='same', activation='tanh'))\n",
    "    \n",
    "    # Third convolution layer\n",
    "    model.add(layers.Conv2D(128, (3, 3), strides=(1, 1), padding='same', activation='tanh'))\n",
    "    \n",
    "    # Flattening layer\n",
    "    model.add(layers.Flatten())\n",
    "    \n",
    "    # Dense layers\n",
    "    model.add(layers.Dense(512, activation='tanh'))\n",
    "    model.add(layers.Dense(256, activation='tanh'))\n",
    "    \n",
    "    model.add(layers.Dense(40, activation='softmax', name='action_output'))\n",
    "    \n",
    "    return model"
   ]
  },
  {
   "cell_type": "code",
   "execution_count": 9,
   "id": "232ac7ea",
   "metadata": {},
   "outputs": [],
   "source": [
    "# Load the dataset from csv\n",
    "dataset = pd.read_csv(\"datasets/dataset_squared.csv\", names = [\"path\", \"rotation\", \"final_row\", \"final_col\"])\n",
    "\n",
    "# Split into training and validation sets\n",
    "train_df, val_df = train_test_split(dataset, test_size=0.2)\n",
    "\n",
    "# Preprocess the data and prepare for training\n",
    "def preprocess_data(df):\n",
    "    X = []\n",
    "    y = []\n",
    "    for index, row in df.iterrows():\n",
    "        img_path = row['path']\n",
    "        rotation = row['rotation'] - 1\n",
    "        col_num = row['final_col']\n",
    "        \n",
    "        # Load the image\n",
    "        img = load_img(img_path, color_mode='grayscale', target_size=(20, 20))\n",
    "        img_array = img_to_array(img)\n",
    "        X.append(img_array)\n",
    "        \n",
    "        # Compute the action number\n",
    "        action_number = (col_num * 4) + rotation\n",
    "        # One-hot encode the action number\n",
    "        encoded_action = np.zeros(40)\n",
    "        encoded_action[action_number] = 1\n",
    "        y.append(encoded_action)\n",
    "    \n",
    "    return np.array(X), np.array(y)\n",
    "\n",
    "X_train, y_train = preprocess_data(train_df)\n",
    "X_val, y_val = preprocess_data(val_df)\n",
    "\n",
    "# Convert lists to numpy arrays\n",
    "import numpy as np\n",
    "X_train = np.array(X_train)\n",
    "X_val = np.array(X_val)\n",
    "\n",
    "# Normalize the image data\n",
    "X_train = X_train / 255.0\n",
    "X_val = X_val / 255.0"
   ]
  },
  {
   "cell_type": "code",
   "execution_count": 10,
   "id": "019952bf",
   "metadata": {},
   "outputs": [
    {
     "name": "stdout",
     "output_type": "stream",
     "text": [
      "Epoch 1/30\n",
      "1333/1333 [==============================] - 7s 5ms/step - loss: 2.6336 - accuracy: 0.2592 - val_loss: 2.3694 - val_accuracy: 0.3387\n",
      "Epoch 2/30\n",
      "1333/1333 [==============================] - 7s 5ms/step - loss: 2.0576 - accuracy: 0.4083 - val_loss: 1.8001 - val_accuracy: 0.4727\n",
      "Epoch 3/30\n",
      "1333/1333 [==============================] - 8s 6ms/step - loss: 1.4367 - accuracy: 0.5866 - val_loss: 1.2378 - val_accuracy: 0.6476\n",
      "Epoch 4/30\n",
      "1333/1333 [==============================] - 7s 6ms/step - loss: 0.8813 - accuracy: 0.7622 - val_loss: 0.7700 - val_accuracy: 0.7979\n",
      "Epoch 5/30\n",
      "1333/1333 [==============================] - 8s 6ms/step - loss: 0.5344 - accuracy: 0.8675 - val_loss: 0.5128 - val_accuracy: 0.8730\n",
      "Epoch 6/30\n",
      "1333/1333 [==============================] - 7s 5ms/step - loss: 0.3742 - accuracy: 0.9088 - val_loss: 0.4100 - val_accuracy: 0.8967\n",
      "Epoch 7/30\n",
      "1333/1333 [==============================] - 7s 5ms/step - loss: 0.3042 - accuracy: 0.9235 - val_loss: 0.3899 - val_accuracy: 0.8941\n",
      "Epoch 8/30\n",
      "1333/1333 [==============================] - 6s 5ms/step - loss: 0.2675 - accuracy: 0.9304 - val_loss: 0.3184 - val_accuracy: 0.9167\n",
      "Epoch 9/30\n",
      "1333/1333 [==============================] - 6s 5ms/step - loss: 0.2408 - accuracy: 0.9366 - val_loss: 0.3794 - val_accuracy: 0.8946\n",
      "Epoch 10/30\n",
      "1333/1333 [==============================] - 6s 5ms/step - loss: 0.2303 - accuracy: 0.9375 - val_loss: 0.3072 - val_accuracy: 0.9170\n",
      "Epoch 11/30\n",
      "1333/1333 [==============================] - 6s 5ms/step - loss: 0.2195 - accuracy: 0.9385 - val_loss: 0.4083 - val_accuracy: 0.8840\n",
      "Epoch 12/30\n",
      "1333/1333 [==============================] - 7s 5ms/step - loss: 0.2136 - accuracy: 0.9406 - val_loss: 0.3220 - val_accuracy: 0.9127\n",
      "Epoch 13/30\n",
      "1333/1333 [==============================] - 6s 5ms/step - loss: 0.2040 - accuracy: 0.9427 - val_loss: 0.2913 - val_accuracy: 0.9256\n",
      "Epoch 14/30\n",
      "1333/1333 [==============================] - 6s 4ms/step - loss: 0.1883 - accuracy: 0.9458 - val_loss: 0.3597 - val_accuracy: 0.9012\n",
      "Epoch 15/30\n",
      "1333/1333 [==============================] - 6s 4ms/step - loss: 0.2063 - accuracy: 0.9395 - val_loss: 0.3698 - val_accuracy: 0.8940\n",
      "Epoch 16/30\n",
      "1333/1333 [==============================] - 6s 5ms/step - loss: 0.2057 - accuracy: 0.9397 - val_loss: 0.2863 - val_accuracy: 0.9261\n",
      "Epoch 17/30\n",
      "1333/1333 [==============================] - 7s 5ms/step - loss: 0.1844 - accuracy: 0.9463 - val_loss: 0.3216 - val_accuracy: 0.9130\n",
      "Epoch 18/30\n",
      "1333/1333 [==============================] - 6s 4ms/step - loss: 0.1834 - accuracy: 0.9461 - val_loss: 0.3114 - val_accuracy: 0.9168\n",
      "Epoch 19/30\n",
      "1333/1333 [==============================] - 6s 4ms/step - loss: 0.1964 - accuracy: 0.9421 - val_loss: 0.3320 - val_accuracy: 0.9106\n",
      "Epoch 20/30\n",
      "1333/1333 [==============================] - 6s 4ms/step - loss: 0.1721 - accuracy: 0.9492 - val_loss: 0.2784 - val_accuracy: 0.9295\n",
      "Epoch 21/30\n",
      "1333/1333 [==============================] - 6s 5ms/step - loss: 0.1767 - accuracy: 0.9482 - val_loss: 0.5325 - val_accuracy: 0.8536\n",
      "Epoch 22/30\n",
      "1333/1333 [==============================] - 8s 6ms/step - loss: 0.1953 - accuracy: 0.9422 - val_loss: 0.3492 - val_accuracy: 0.9056\n",
      "Epoch 23/30\n",
      "1333/1333 [==============================] - 7s 5ms/step - loss: 0.1764 - accuracy: 0.9465 - val_loss: 0.3186 - val_accuracy: 0.9171\n",
      "Epoch 24/30\n",
      "1333/1333 [==============================] - 6s 5ms/step - loss: 0.1702 - accuracy: 0.9492 - val_loss: 0.3383 - val_accuracy: 0.9117\n",
      "Epoch 25/30\n",
      "1333/1333 [==============================] - 6s 5ms/step - loss: 0.1643 - accuracy: 0.9514 - val_loss: 0.3413 - val_accuracy: 0.9083\n"
     ]
    }
   ],
   "source": [
    "# Create the model\n",
    "model = create_cnn_model()\n",
    "\n",
    "# Compile the model\n",
    "model.compile(optimizer='adam', loss='categorical_crossentropy', metrics=['accuracy'])\n",
    "\n",
    "from tensorflow.keras.callbacks import EarlyStopping\n",
    "\n",
    "# Define EarlyStopping callback\n",
    "early_stopping = EarlyStopping(monitor='val_loss', patience=5, restore_best_weights=True)\n",
    "\n",
    "# Train the model with EarlyStopping callback\n",
    "history = model.fit(X_train, y_train, epochs=30, batch_size=32, validation_data=(X_val, y_val), callbacks=[early_stopping])"
   ]
  },
  {
   "cell_type": "code",
   "execution_count": 28,
   "id": "4c06ac33",
   "metadata": {},
   "outputs": [
    {
     "name": "stdout",
     "output_type": "stream",
     "text": [
      "processed_images/2024-02-01_16;06;07;0407.png\n"
     ]
    },
    {
     "data": {
      "image/png": "[encoded data removed]",
      "text/plain": [
       "<Figure size 640x480 with 1 Axes>"
      ]
     },
     "metadata": {},
     "output_type": "display_data"
    }
   ],
   "source": [
    "import random\n",
    "import cv2\n",
    "from Tetromino import Tetromino\n",
    "from board_processor import check_tetromino, cast_to_one, get_image_resized, get_squared_image, get_image_from_board\n",
    "import os\n",
    "from IPython.display import Image, display\n",
    "from matplotlib import pyplot as plt\n",
    "\n",
    "path = \"processed_images/\" + str(random.choice(list(os.listdir(\"processed_images\"))))\n",
    "print(path)\n",
    "input_image = cv2.imread(path, cv2.IMREAD_GRAYSCALE)\n",
    "\n",
    "%matplotlib inline\n",
    "\n",
    "#Show the image with matplotlib\n",
    "plt.imshow(input_image,cmap='gray', vmin=0, vmax=255)\n",
    "plt.show()"
   ]
  },
  {
   "cell_type": "code",
   "execution_count": 30,
   "id": "8c091eb5",
   "metadata": {},
   "outputs": [
    {
     "name": "stdout",
     "output_type": "stream",
     "text": [
      "('L', '1', (1, 4))\n"
     ]
    },
    {
     "data": {
      "image/png": "[encoded data removed]",
      "text/plain": [
       "<Figure size 640x480 with 1 Axes>"
      ]
     },
     "metadata": {},
     "output_type": "display_data"
    },
    {
     "name": "stdout",
     "output_type": "stream",
     "text": [
      "1/1 [==============================] - 0s 12ms/step\n",
      "Predicted Rotation: 3\n",
      "Predicted Column: 0\n"
     ]
    }
   ],
   "source": [
    "board = np.apply_along_axis(cast_to_one, 1, input_image).astype(int)\n",
    "piece = check_tetromino(board)\n",
    "\n",
    "square_board = get_image_from_board(get_squared_image(board))\n",
    "plt.imshow(square_board,cmap='gray', vmin=0, vmax=255)\n",
    "plt.show()\n",
    "\n",
    "# Use the trained model to predict the column and rotation\n",
    "predicted_action = model.predict(np.expand_dims(square_board, axis=0))\n",
    "predicted_action_number = np.argmax(predicted_action) + 1  # Convert from 0-indexed to 1-indexed action number\n",
    "\n",
    "# Compute the predicted column and rotation from the action number\n",
    "predicted_column = (predicted_action_number - 1) // 4\n",
    "predicted_rotation = (predicted_action_number - 1) % 4\n",
    "\n",
    "# Visualize the computed column and rotation\n",
    "print(\"Predicted Rotation:\", predicted_rotation)\n",
    "print(\"Predicted Column:\", predicted_column)"
   ]
  },
  {
   "cell_type": "code",
   "execution_count": null,
   "id": "bfdc8937",
   "metadata": {},
   "outputs": [],
   "source": []
  }
 ],
 "metadata": {
  "kernelspec": {
   "display_name": "Python 3 (ipykernel)",
   "language": "python",
   "name": "python3"
  },
  "language_info": {
   "codemirror_mode": {
    "name": "ipython",
    "version": 3
   },
   "file_extension": ".py",
   "mimetype": "text/x-python",
   "name": "python",
   "nbconvert_exporter": "python",
   "pygments_lexer": "ipython3",
   "version": "3.11.5"
  }
 },
 "nbformat": 4,
 "nbformat_minor": 5
}
